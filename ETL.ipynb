{
 "cells": [
  {
   "cell_type": "markdown",
   "id": "ff94a6b4-3318-4d9f-8227-4772c137b3c2",
   "metadata": {},
   "source": [
    "# Extract"
   ]
  },
  {
   "cell_type": "code",
   "execution_count": 22,
   "id": "a710ce49-f402-47d1-a72e-01bf52a6b5e6",
   "metadata": {},
   "outputs": [],
   "source": [
    "import pandas as pd"
   ]
  },
  {
   "cell_type": "code",
   "execution_count": 23,
   "id": "b190b2a2-f568-42fb-b3ea-050906f1c679",
   "metadata": {},
   "outputs": [
    {
     "data": {
      "text/plain": [
       "anime_id            24985\n",
       "title               24985\n",
       "type                24927\n",
       "score               16050\n",
       "scored_by           24985\n",
       "status              24985\n",
       "episodes            24438\n",
       "start_date          24110\n",
       "end_date            22215\n",
       "source              21424\n",
       "members             24985\n",
       "favorites           24985\n",
       "episode_duration    24387\n",
       "total_duration      24162\n",
       "rating              24405\n",
       "sfw                 24985\n",
       "approved            24985\n",
       "created_at          24985\n",
       "updated_at          24985\n",
       "start_year          20301\n",
       "start_season        20301\n",
       "real_start_date     24110\n",
       "real_end_date       22215\n",
       "broadcast_day        3450\n",
       "broadcast_time       3313\n",
       "genres              24985\n",
       "themes              24985\n",
       "demographics        24985\n",
       "studios             24985\n",
       "producers           24985\n",
       "licensors           24985\n",
       "synopsis            20492\n",
       "background           2450\n",
       "main_picture        24831\n",
       "url                 24985\n",
       "trailer_url          4724\n",
       "title_english       10402\n",
       "title_japanese      24895\n",
       "title_synonyms      24985\n",
       "dtype: int64"
      ]
     },
     "execution_count": 23,
     "metadata": {},
     "output_type": "execute_result"
    }
   ],
   "source": [
    "# Load the CSV file\n",
    "file_path = r\"D:\\Projects\\Github Repo\\Data-Mining-Final-Project\\MAL_dataset.csv\"\n",
    "df = pd.read_csv(file_path)\n",
    "\n",
    "# Display the first few rows of the dataframe\n",
    "df.count()"
   ]
  },
  {
   "cell_type": "markdown",
   "id": "111b2d9c-5016-407d-93c5-f63e17af4263",
   "metadata": {},
   "source": [
    "# Transform"
   ]
  },
  {
   "cell_type": "code",
   "execution_count": 25,
   "id": "2db593e1-860e-437c-86d2-b07e9e7429c0",
   "metadata": {},
   "outputs": [
    {
     "data": {
      "text/html": [
       "<div>\n",
       "<style scoped>\n",
       "    .dataframe tbody tr th:only-of-type {\n",
       "        vertical-align: middle;\n",
       "    }\n",
       "\n",
       "    .dataframe tbody tr th {\n",
       "        vertical-align: top;\n",
       "    }\n",
       "\n",
       "    .dataframe thead th {\n",
       "        text-align: right;\n",
       "    }\n",
       "</style>\n",
       "<table border=\"1\" class=\"dataframe\">\n",
       "  <thead>\n",
       "    <tr style=\"text-align: right;\">\n",
       "      <th></th>\n",
       "      <th>title</th>\n",
       "      <th>type</th>\n",
       "      <th>score</th>\n",
       "      <th>scored_by</th>\n",
       "      <th>episodes</th>\n",
       "      <th>favorites</th>\n",
       "      <th>rating</th>\n",
       "      <th>start_year</th>\n",
       "      <th>start_season</th>\n",
       "      <th>genres</th>\n",
       "      <th>studios</th>\n",
       "    </tr>\n",
       "  </thead>\n",
       "  <tbody>\n",
       "    <tr>\n",
       "      <th>0</th>\n",
       "      <td>Fullmetal Alchemist: Brotherhood</td>\n",
       "      <td>tv</td>\n",
       "      <td>9.10</td>\n",
       "      <td>2037075</td>\n",
       "      <td>64.0</td>\n",
       "      <td>219036</td>\n",
       "      <td>r</td>\n",
       "      <td>2009.0</td>\n",
       "      <td>spring</td>\n",
       "      <td>['Action', 'Adventure', 'Drama', 'Fantasy']</td>\n",
       "      <td>['Bones']</td>\n",
       "    </tr>\n",
       "    <tr>\n",
       "      <th>1</th>\n",
       "      <td>Hunter x Hunter (2011)</td>\n",
       "      <td>tv</td>\n",
       "      <td>9.04</td>\n",
       "      <td>1671587</td>\n",
       "      <td>148.0</td>\n",
       "      <td>202109</td>\n",
       "      <td>pg_13</td>\n",
       "      <td>2011.0</td>\n",
       "      <td>fall</td>\n",
       "      <td>['Action', 'Adventure', 'Fantasy']</td>\n",
       "      <td>['Madhouse']</td>\n",
       "    </tr>\n",
       "    <tr>\n",
       "      <th>2</th>\n",
       "      <td>Shingeki no Kyojin Season 3 Part 2</td>\n",
       "      <td>tv</td>\n",
       "      <td>9.05</td>\n",
       "      <td>1491491</td>\n",
       "      <td>10.0</td>\n",
       "      <td>55644</td>\n",
       "      <td>r</td>\n",
       "      <td>2019.0</td>\n",
       "      <td>spring</td>\n",
       "      <td>['Action', 'Drama']</td>\n",
       "      <td>['Wit Studio']</td>\n",
       "    </tr>\n",
       "    <tr>\n",
       "      <th>3</th>\n",
       "      <td>Steins;Gate</td>\n",
       "      <td>tv</td>\n",
       "      <td>9.07</td>\n",
       "      <td>1348232</td>\n",
       "      <td>24.0</td>\n",
       "      <td>184312</td>\n",
       "      <td>pg_13</td>\n",
       "      <td>2011.0</td>\n",
       "      <td>spring</td>\n",
       "      <td>['Drama', 'Sci-Fi', 'Suspense']</td>\n",
       "      <td>['White Fox']</td>\n",
       "    </tr>\n",
       "    <tr>\n",
       "      <th>4</th>\n",
       "      <td>Koe no Katachi</td>\n",
       "      <td>movie</td>\n",
       "      <td>8.94</td>\n",
       "      <td>1540277</td>\n",
       "      <td>1.0</td>\n",
       "      <td>84124</td>\n",
       "      <td>pg_13</td>\n",
       "      <td>2016.0</td>\n",
       "      <td>summer</td>\n",
       "      <td>['Award Winning', 'Drama']</td>\n",
       "      <td>['Kyoto Animation']</td>\n",
       "    </tr>\n",
       "  </tbody>\n",
       "</table>\n",
       "</div>"
      ],
      "text/plain": [
       "                                title   type  score  scored_by  episodes  \\\n",
       "0    Fullmetal Alchemist: Brotherhood     tv   9.10    2037075      64.0   \n",
       "1              Hunter x Hunter (2011)     tv   9.04    1671587     148.0   \n",
       "2  Shingeki no Kyojin Season 3 Part 2     tv   9.05    1491491      10.0   \n",
       "3                         Steins;Gate     tv   9.07    1348232      24.0   \n",
       "4                      Koe no Katachi  movie   8.94    1540277       1.0   \n",
       "\n",
       "   favorites rating  start_year start_season  \\\n",
       "0     219036      r      2009.0       spring   \n",
       "1     202109  pg_13      2011.0         fall   \n",
       "2      55644      r      2019.0       spring   \n",
       "3     184312  pg_13      2011.0       spring   \n",
       "4      84124  pg_13      2016.0       summer   \n",
       "\n",
       "                                        genres              studios  \n",
       "0  ['Action', 'Adventure', 'Drama', 'Fantasy']            ['Bones']  \n",
       "1           ['Action', 'Adventure', 'Fantasy']         ['Madhouse']  \n",
       "2                          ['Action', 'Drama']       ['Wit Studio']  \n",
       "3              ['Drama', 'Sci-Fi', 'Suspense']        ['White Fox']  \n",
       "4                   ['Award Winning', 'Drama']  ['Kyoto Animation']  "
      ]
     },
     "execution_count": 25,
     "metadata": {},
     "output_type": "execute_result"
    }
   ],
   "source": [
    "# Specify the columns you want to keep\n",
    "desired_columns = [\n",
    "    'title', 'type', 'score', 'scored_by', 'episodes', 'favorites',\n",
    "    'rating', 'start_year', 'start_season', 'genres', 'studios'\n",
    "]\n",
    "\n",
    "# Filter the DataFrame to keep only the desired columns\n",
    "filtered_df = df[desired_columns]\n",
    "\n",
    "# Display the filtered DataFrame (optional)\n",
    "filtered_df.head()"
   ]
  },
  {
   "cell_type": "code",
   "execution_count": 18,
   "id": "ae7bcdc3-b4d3-4de1-b5ce-5e104cacba9b",
   "metadata": {},
   "outputs": [],
   "source": [
    "# Example transformations\n",
    "df.dropna(inplace=True)  # Drop rows with missing values"
   ]
  },
  {
   "cell_type": "code",
   "execution_count": 19,
   "id": "9dfe403e-9f87-42a2-9634-46ce7aa50145",
   "metadata": {},
   "outputs": [
    {
     "data": {
      "text/plain": [
       "anime_id            578\n",
       "title               578\n",
       "type                578\n",
       "score               578\n",
       "scored_by           578\n",
       "status              578\n",
       "episodes            578\n",
       "start_date          578\n",
       "end_date            578\n",
       "source              578\n",
       "members             578\n",
       "favorites           578\n",
       "episode_duration    578\n",
       "total_duration      578\n",
       "rating              578\n",
       "sfw                 578\n",
       "approved            578\n",
       "created_at          578\n",
       "updated_at          578\n",
       "start_year          578\n",
       "start_season        578\n",
       "real_start_date     578\n",
       "real_end_date       578\n",
       "broadcast_day       578\n",
       "broadcast_time      578\n",
       "genres              578\n",
       "themes              578\n",
       "demographics        578\n",
       "studios             578\n",
       "producers           578\n",
       "licensors           578\n",
       "synopsis            578\n",
       "background          578\n",
       "main_picture        578\n",
       "url                 578\n",
       "trailer_url         578\n",
       "title_english       578\n",
       "title_japanese      578\n",
       "title_synonyms      578\n",
       "dtype: int64"
      ]
     },
     "execution_count": 19,
     "metadata": {},
     "output_type": "execute_result"
    }
   ],
   "source": [
    "df.count()"
   ]
  },
  {
   "cell_type": "code",
   "execution_count": 15,
   "id": "05e200b4-db3b-4f63-a8c4-e887b38606b3",
   "metadata": {},
   "outputs": [
    {
     "data": {
      "text/plain": [
       "anime_id    12017\n",
       "name        12017\n",
       "genre       12017\n",
       "type        12017\n",
       "episodes    12017\n",
       "rating      12017\n",
       "members     12017\n",
       "dtype: int64"
      ]
     },
     "execution_count": 15,
     "metadata": {},
     "output_type": "execute_result"
    }
   ],
   "source": [
    "df.drop_duplicates(inplace=True)\n",
    "df.count()"
   ]
  },
  {
   "cell_type": "code",
   "execution_count": 16,
   "id": "57f5cdbb-73c4-4fa6-b5c1-37ff33889332",
   "metadata": {},
   "outputs": [
    {
     "name": "stdout",
     "output_type": "stream",
     "text": [
      "<class 'pandas.core.frame.DataFrame'>\n",
      "Index: 12017 entries, 0 to 12293\n",
      "Data columns (total 7 columns):\n",
      " #   Column    Non-Null Count  Dtype  \n",
      "---  ------    --------------  -----  \n",
      " 0   anime_id  12017 non-null  int64  \n",
      " 1   name      12017 non-null  object \n",
      " 2   genre     12017 non-null  object \n",
      " 3   type      12017 non-null  object \n",
      " 4   episodes  12017 non-null  object \n",
      " 5   rating    12017 non-null  float64\n",
      " 6   members   12017 non-null  int64  \n",
      "dtypes: float64(1), int64(2), object(4)\n",
      "memory usage: 751.1+ KB\n"
     ]
    }
   ],
   "source": [
    "df.info()"
   ]
  },
  {
   "cell_type": "code",
   "execution_count": null,
   "id": "ac7d929c-71a7-4237-b7a8-54b34632424e",
   "metadata": {},
   "outputs": [],
   "source": []
  }
 ],
 "metadata": {
  "kernelspec": {
   "display_name": "dataminingpf",
   "language": "python",
   "name": "dataminingpf"
  },
  "language_info": {
   "codemirror_mode": {
    "name": "ipython",
    "version": 3
   },
   "file_extension": ".py",
   "mimetype": "text/x-python",
   "name": "python",
   "nbconvert_exporter": "python",
   "pygments_lexer": "ipython3",
   "version": "3.11.6"
  }
 },
 "nbformat": 4,
 "nbformat_minor": 5
}
